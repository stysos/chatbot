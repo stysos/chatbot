{
 "cells": [
  {
   "cell_type": "code",
   "execution_count": 2,
   "id": "83cfecac",
   "metadata": {},
   "outputs": [],
   "source": [
    "import pandas as pd"
   ]
  },
  {
   "cell_type": "code",
   "execution_count": 3,
   "id": "334f4e77",
   "metadata": {},
   "outputs": [],
   "source": [
    "data = pd.read_csv('casual_data_windows.csv')"
   ]
  },
  {
   "cell_type": "code",
   "execution_count": 4,
   "id": "431a24b6",
   "metadata": {},
   "outputs": [],
   "source": [
    "del data['Unnamed: 0']"
   ]
  },
  {
   "cell_type": "code",
   "execution_count": 5,
   "id": "ca515a54",
   "metadata": {},
   "outputs": [
    {
     "data": {
      "text/html": [
       "<div>\n",
       "<style scoped>\n",
       "    .dataframe tbody tr th:only-of-type {\n",
       "        vertical-align: middle;\n",
       "    }\n",
       "\n",
       "    .dataframe tbody tr th {\n",
       "        vertical-align: top;\n",
       "    }\n",
       "\n",
       "    .dataframe thead th {\n",
       "        text-align: right;\n",
       "    }\n",
       "</style>\n",
       "<table border=\"1\" class=\"dataframe\">\n",
       "  <thead>\n",
       "    <tr style=\"text-align: right;\">\n",
       "      <th></th>\n",
       "      <th>0</th>\n",
       "      <th>1</th>\n",
       "      <th>2</th>\n",
       "    </tr>\n",
       "  </thead>\n",
       "  <tbody>\n",
       "    <tr>\n",
       "      <th>0</th>\n",
       "      <td>What kind of phone(s) do you guys have?</td>\n",
       "      <td>I have a pixel. It's pretty great. Much better...</td>\n",
       "      <td>Does it really charge all the way in 15 min?</td>\n",
       "    </tr>\n",
       "    <tr>\n",
       "      <th>1</th>\n",
       "      <td>I have a pixel. It's pretty great. Much better...</td>\n",
       "      <td>Does it really charge all the way in 15 min?</td>\n",
       "      <td>Pretty fast. I've never timed it, but it's und...</td>\n",
       "    </tr>\n",
       "    <tr>\n",
       "      <th>2</th>\n",
       "      <td>Does it really charge all the way in 15 min?</td>\n",
       "      <td>Pretty fast. I've never timed it, but it's und...</td>\n",
       "      <td>cool. I've been thinking of getting one, my ph...</td>\n",
       "    </tr>\n",
       "    <tr>\n",
       "      <th>3</th>\n",
       "      <td>What kind of phone(s) do you guys have?</td>\n",
       "      <td>Samsung Galaxy J1. It's my first cell phone an...</td>\n",
       "      <td>What do you think of it? Anything you don't like?</td>\n",
       "    </tr>\n",
       "    <tr>\n",
       "      <th>4</th>\n",
       "      <td>Samsung Galaxy J1. It's my first cell phone an...</td>\n",
       "      <td>What do you think of it? Anything you don't like?</td>\n",
       "      <td>I love it. I can't think of anything I don't l...</td>\n",
       "    </tr>\n",
       "    <tr>\n",
       "      <th>...</th>\n",
       "      <td>...</td>\n",
       "      <td>...</td>\n",
       "      <td>...</td>\n",
       "    </tr>\n",
       "    <tr>\n",
       "      <th>56292</th>\n",
       "      <td>I just won a $570 PlayStation 4 Pro at Timezone!</td>\n",
       "      <td>Are you from Singapore?Because I recognised th...</td>\n",
       "      <td>It's also in the Philippines! But our prizes a...</td>\n",
       "    </tr>\n",
       "    <tr>\n",
       "      <th>56293</th>\n",
       "      <td>Are you from Singapore?Because I recognised th...</td>\n",
       "      <td>It's also in the Philippines! But our prizes a...</td>\n",
       "      <td>Also in Australia!</td>\n",
       "    </tr>\n",
       "    <tr>\n",
       "      <th>56294</th>\n",
       "      <td>It's also in the Philippines! But our prizes a...</td>\n",
       "      <td>Also in Australia!</td>\n",
       "      <td>and New Zealand!</td>\n",
       "    </tr>\n",
       "    <tr>\n",
       "      <th>56295</th>\n",
       "      <td>Also in Australia!</td>\n",
       "      <td>and New Zealand!</td>\n",
       "      <td>And my axe!</td>\n",
       "    </tr>\n",
       "    <tr>\n",
       "      <th>56296</th>\n",
       "      <td>Are you from Singapore?Because I recognised th...</td>\n",
       "      <td>It's also in the Philippines! But our prizes a...</td>\n",
       "      <td>Nope, I’m from New Zealand</td>\n",
       "    </tr>\n",
       "  </tbody>\n",
       "</table>\n",
       "<p>56297 rows × 3 columns</p>\n",
       "</div>"
      ],
      "text/plain": [
       "                                                       0  \\\n",
       "0                What kind of phone(s) do you guys have?   \n",
       "1      I have a pixel. It's pretty great. Much better...   \n",
       "2           Does it really charge all the way in 15 min?   \n",
       "3                What kind of phone(s) do you guys have?   \n",
       "4      Samsung Galaxy J1. It's my first cell phone an...   \n",
       "...                                                  ...   \n",
       "56292   I just won a $570 PlayStation 4 Pro at Timezone!   \n",
       "56293  Are you from Singapore?Because I recognised th...   \n",
       "56294  It's also in the Philippines! But our prizes a...   \n",
       "56295                                 Also in Australia!   \n",
       "56296  Are you from Singapore?Because I recognised th...   \n",
       "\n",
       "                                                       1  \\\n",
       "0      I have a pixel. It's pretty great. Much better...   \n",
       "1           Does it really charge all the way in 15 min?   \n",
       "2      Pretty fast. I've never timed it, but it's und...   \n",
       "3      Samsung Galaxy J1. It's my first cell phone an...   \n",
       "4      What do you think of it? Anything you don't like?   \n",
       "...                                                  ...   \n",
       "56292  Are you from Singapore?Because I recognised th...   \n",
       "56293  It's also in the Philippines! But our prizes a...   \n",
       "56294                                 Also in Australia!   \n",
       "56295                                   and New Zealand!   \n",
       "56296  It's also in the Philippines! But our prizes a...   \n",
       "\n",
       "                                                       2  \n",
       "0           Does it really charge all the way in 15 min?  \n",
       "1      Pretty fast. I've never timed it, but it's und...  \n",
       "2      cool. I've been thinking of getting one, my ph...  \n",
       "3      What do you think of it? Anything you don't like?  \n",
       "4      I love it. I can't think of anything I don't l...  \n",
       "...                                                  ...  \n",
       "56292  It's also in the Philippines! But our prizes a...  \n",
       "56293                                 Also in Australia!  \n",
       "56294                                   and New Zealand!  \n",
       "56295                                        And my axe!  \n",
       "56296                         Nope, I’m from New Zealand  \n",
       "\n",
       "[56297 rows x 3 columns]"
      ]
     },
     "execution_count": 5,
     "metadata": {},
     "output_type": "execute_result"
    }
   ],
   "source": [
    "data"
   ]
  },
  {
   "cell_type": "code",
   "execution_count": null,
   "id": "911e84b9",
   "metadata": {},
   "outputs": [],
   "source": []
  },
  {
   "cell_type": "code",
   "execution_count": 6,
   "id": "525f3a00",
   "metadata": {},
   "outputs": [],
   "source": [
    "lst = []"
   ]
  },
  {
   "cell_type": "code",
   "execution_count": 7,
   "id": "5b4ad089",
   "metadata": {},
   "outputs": [],
   "source": [
    "#position 0 + 1 + 2 = item in list\n",
    "for i in range(len(data)):\n",
    "    row = data.loc[i]\n",
    "    temp = []\n",
    "    for element in row:\n",
    "        temp.append(element)\n",
    "    lst.append(temp)\n",
    "        "
   ]
  },
  {
   "cell_type": "code",
   "execution_count": 13,
   "id": "b8065f30",
   "metadata": {},
   "outputs": [
    {
     "data": {
      "text/plain": [
       "['What kind of phone(s) do you guys have?',\n",
       " \"I have a pixel. It's pretty great. Much better than what I had before. \",\n",
       " 'Does it really charge all the way in 15 min?']"
      ]
     },
     "execution_count": 13,
     "metadata": {},
     "output_type": "execute_result"
    }
   ],
   "source": [
    "lst[0]"
   ]
  },
  {
   "cell_type": "code",
   "execution_count": 14,
   "id": "f6fa2abb",
   "metadata": {},
   "outputs": [
    {
     "data": {
      "text/plain": [
       "56297"
      ]
     },
     "execution_count": 14,
     "metadata": {},
     "output_type": "execute_result"
    }
   ],
   "source": [
    "len(lst)"
   ]
  },
  {
   "cell_type": "code",
   "execution_count": null,
   "id": "94d57c2b",
   "metadata": {},
   "outputs": [],
   "source": [
    "for i in lst:\n",
    "    chatterbot"
   ]
  },
  {
   "cell_type": "code",
   "execution_count": 12,
   "id": "97c3013f",
   "metadata": {},
   "outputs": [],
   "source": [
    "import chatterbot\n",
    "from chatterbot import ChatBot\n",
    "from chatterbot.trainers import ListTrainer"
   ]
  },
  {
   "cell_type": "code",
   "execution_count": null,
   "id": "19ef1b5d",
   "metadata": {},
   "outputs": [],
   "source": []
  }
 ],
 "metadata": {
  "kernelspec": {
   "display_name": "Python 3 (ipykernel)",
   "language": "python",
   "name": "python3"
  },
  "language_info": {
   "codemirror_mode": {
    "name": "ipython",
    "version": 3
   },
   "file_extension": ".py",
   "mimetype": "text/x-python",
   "name": "python",
   "nbconvert_exporter": "python",
   "pygments_lexer": "ipython3",
   "version": "3.9.12"
  }
 },
 "nbformat": 4,
 "nbformat_minor": 5
}
