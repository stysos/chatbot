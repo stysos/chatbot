{
 "cells": [
  {
   "cell_type": "markdown",
   "id": "5ca897c9",
   "metadata": {},
   "source": [
    "# Lemmatization and Stemming/"
   ]
  },
  {
   "cell_type": "code",
   "execution_count": 1,
   "id": "2f653dd3",
   "metadata": {},
   "outputs": [],
   "source": [
    "import nltk"
   ]
  },
  {
   "cell_type": "code",
   "execution_count": 2,
   "id": "8619d953",
   "metadata": {},
   "outputs": [],
   "source": [
    "from nltk import PorterStemmer\n",
    "from nltk import LancasterStemmer\n"
   ]
  },
  {
   "cell_type": "code",
   "execution_count": 21,
   "id": "22252e0b",
   "metadata": {},
   "outputs": [],
   "source": [
    "def stem_sentence(user_input):\n",
    "    porter = PorterStemmer()\n",
    "    stem_input = porter.stem(user_input)\n",
    "    return stem_input"
   ]
  },
  {
   "cell_type": "code",
   "execution_count": 15,
   "id": "90b847b4",
   "metadata": {},
   "outputs": [],
   "source": [
    "def take_input():\n",
    "    user_input = input(f'')\n",
    "    return user_input\n"
   ]
  },
  {
   "cell_type": "code",
   "execution_count": 78,
   "id": "f58a1296",
   "metadata": {},
   "outputs": [],
   "source": [
    "def run():\n",
    "    user_input = take_input()\n",
    "    #stem_input = stem_sentence(user_input)\n",
    "    lem_input = lem_sentence(user_input)\n",
    "    print(lem_input)"
   ]
  },
  {
   "cell_type": "code",
   "execution_count": 118,
   "id": "354e3d8f",
   "metadata": {},
   "outputs": [
    {
     "name": "stdout",
     "output_type": "stream",
     "text": [
      "this is a test\n",
      "pos is [('this', 'DT'), ('is', 'VBZ'), ('a', 'DT'), ('test', 'NN')]\n",
      "[['this', 'DT']]\n",
      "[['is', 'VBZ']]\n",
      "[['a', 'DT']]\n",
      "[['test', 'NN']]\n",
      "[[['this', 'DT']], [['is', 'VBZ']], [['a', 'DT']], [['test', 'NN']]]\n"
     ]
    }
   ],
   "source": [
    "if __name__ == '__main__':\n",
    "    run()"
   ]
  },
  {
   "cell_type": "code",
   "execution_count": 54,
   "id": "26592c1e",
   "metadata": {},
   "outputs": [],
   "source": [
    "from nltk.stem import WordNetLemmatizer\n",
    "from nltk import pos_tag\n",
    "from nltk.tokenize import word_tokenize\n",
    "\n"
   ]
  },
  {
   "cell_type": "code",
   "execution_count": 117,
   "id": "4edeb5b5",
   "metadata": {},
   "outputs": [],
   "source": [
    "def lem_sentence(user_input):\n",
    "    wordnet_lemmatizer = WordNetLemmatizer()\n",
    "    #nltk.word_tokenize(user_input)\n",
    "    pos = pos_tag(word_tokenize(user_input))\n",
    "    pos = list(pos)\n",
    "    print(f'pos is {pos}')\n",
    "    lem_input = []\n",
    "    temp = []\n",
    "    for element in pos:\n",
    "        temp = []\n",
    "        #print(element)\n",
    "        temp.append([element[0], element[1]])\n",
    "        print(temp)\n",
    "        lem_input.append(temp)\n",
    "    \n",
    "        #temp = wordnet_lemmatizer.lemmatize(i)\n",
    "       # lem_input.append(temp)\n",
    "    return lem_input\n",
    "  #  print(lem_input)\n",
    "    #return lem_input\n",
    "#    for word in lem_input:\n",
    " #       if word in punctuations:\n",
    "  #          lem_input.remove(word)\n",
    "#return lem_input\n",
    "    "
   ]
  },
  {
   "cell_type": "code",
   "execution_count": 48,
   "id": "02257f57",
   "metadata": {},
   "outputs": [
    {
     "data": {
      "text/plain": [
       "'walking'"
      ]
     },
     "execution_count": 48,
     "metadata": {},
     "output_type": "execute_result"
    }
   ],
   "source": [
    "wordnet_lemmatizer.lemmatize('walking')"
   ]
  },
  {
   "cell_type": "code",
   "execution_count": 55,
   "id": "eb43dcad",
   "metadata": {},
   "outputs": [],
   "source": [
    "temp = pos_tag(word_tokenize('walking to the park'))"
   ]
  },
  {
   "cell_type": "code",
   "execution_count": 56,
   "id": "71eea168",
   "metadata": {},
   "outputs": [
    {
     "data": {
      "text/plain": [
       "[('walking', 'VBG'), ('to', 'TO'), ('the', 'DT'), ('park', 'NN')]"
      ]
     },
     "execution_count": 56,
     "metadata": {},
     "output_type": "execute_result"
    }
   ],
   "source": [
    "temp"
   ]
  },
  {
   "cell_type": "code",
   "execution_count": 84,
   "id": "cfa83a9c",
   "metadata": {},
   "outputs": [
    {
     "name": "stdout",
     "output_type": "stream",
     "text": [
      "hello\n",
      "NN\n",
      "('hello', 'NN')\n",
      "there\n",
      "EX\n",
      "('there', 'EX')\n",
      "noob\n",
      "RB\n",
      "('noob', 'RB')\n"
     ]
    }
   ],
   "source": [
    "wordnet_lemmatizer = WordNetLemmatizer()\n",
    "    #nltk.word_tokenize(user_input)\n",
    "pos = pos_tag(word_tokenize(user_input))\n",
    "lem_input = []\n",
    "for i in pos: \n",
    "    for x in i:\n",
    "        print(x)\n",
    "    print(i)\n",
    "    lem_input.append(i)"
   ]
  },
  {
   "cell_type": "code",
   "execution_count": 85,
   "id": "c620969b",
   "metadata": {},
   "outputs": [
    {
     "data": {
      "text/plain": [
       "[('hello', 'NN'), ('there', 'EX'), ('noob', 'RB')]"
      ]
     },
     "execution_count": 85,
     "metadata": {},
     "output_type": "execute_result"
    }
   ],
   "source": [
    "lem_input"
   ]
  },
  {
   "cell_type": "code",
   "execution_count": null,
   "id": "52718d72",
   "metadata": {},
   "outputs": [],
   "source": []
  }
 ],
 "metadata": {
  "kernelspec": {
   "display_name": "Python 3 (ipykernel)",
   "language": "python",
   "name": "python3"
  },
  "language_info": {
   "codemirror_mode": {
    "name": "ipython",
    "version": 3
   },
   "file_extension": ".py",
   "mimetype": "text/x-python",
   "name": "python",
   "nbconvert_exporter": "python",
   "pygments_lexer": "ipython3",
   "version": "3.9.12"
  }
 },
 "nbformat": 4,
 "nbformat_minor": 5
}
